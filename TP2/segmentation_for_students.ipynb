{
 "cells": [
  {
   "cell_type": "markdown",
   "metadata": {
    "id": "5NpEYUhttkbi"
   },
   "source": [
    "# TP 2 : Computer Vision\n",
    "\n",
    "## Part 1 : segmentation\n",
    "\n",
    "In this part of the TP, we are going to implement two approaches to image segmentation :\n",
    "\n",
    "- algorithm of Otsu (histogram-based segmentation)\n",
    "- a simple region-growing based algorithm\n",
    "\n",
    "First, let us load some packages and define some helper functions (as in the previous TP)"
   ]
  },
  {
   "cell_type": "code",
   "execution_count": null,
   "metadata": {
    "id": "9k8Hyugytkbk"
   },
   "outputs": [],
   "source": [
    "from matplotlib import pyplot as plt\n",
    "import numpy as np \n",
    "import imageio\n",
    "from skimage import color\n",
    "\n",
    "is_colab = True\n",
    "\n",
    "def read_image(file_name):\n",
    "    img_color = imageio.imread(file_name)\n",
    "    img_gray = color.rgb2gray(img_color)\n",
    "    return img_gray,img_color\n",
    "    \n",
    "def write_image(img_in,file_name_out):\n",
    "    imageio.imwrite(file_name_out, np.uint8(255.0*img_in))\n",
    "    \n",
    "def display_image(img_in):\n",
    "    plt.figure(figsize=(10, 10))\n",
    "    if (img_in.ndim == 2):\n",
    "        plt.imshow(img_in,cmap='gray')\n",
    "    elif (img_in.ndim == 3):\n",
    "        # careful, in this case we supppose the pixel values are between 0 and 255\n",
    "        plt.imshow(np.uint8(img_in))\n",
    "    else:\n",
    "        print('Error, unknown number of dimensions in image')\n",
    "    return\n",
    "\n",
    "file_dir = 'images/'\n",
    "file_name = 'crossing'\n",
    "file_ext = '.png'\n",
    "\n",
    "if (is_colab == True):\n",
    "  !wget \"https://perso.telecom-paristech.fr/anewson/doc/images/crossing.png\"\n",
    "  img_gray,_ = read_image(file_name+file_ext)\n",
    "else:\n",
    "  img_gray,_ = read_image(file_dir+file_name+file_ext)\n",
    "\n",
    "display_image(img_gray)\n",
    "img_gray.shape"
   ]
  },
  {
   "cell_type": "markdown",
   "metadata": {
    "id": "lEeBdCqMtkbn"
   },
   "source": [
    "## Otsu's algorithm\n",
    "\n",
    "Otsu's method is based on finding a threshold to split the image into two separate segments, based simply on their grey-level values. Since the maximum number of grey-levels is finite (and small: 256), we can use an exhaustive search.\n",
    "\n",
    "The grey-level threshold is the one that minimises the following criterion :\n",
    "\n",
    "$argmin_{\\tau} \\: \\omega_0(\\tau)\\sigma_0(\\tau) + \\omega_1(\\tau)\\sigma_1(t)$\n",
    "\n",
    "where\n",
    "\n",
    "- $\\sigma_0(\\tau)$ and $\\sigma_1(\\tau)$ are the variances of the pixels in the first and second regions\n",
    "- $\\omega_0(\\tau)$ and $\\omega_1(\\tau)$ are weights of the first and second regions\n",
    "\n",
    "and \n",
    "\n",
    "- $\\omega_0(\\tau) = \\sum_{p \\in \\Omega} \\mathbb{1}_{\\tau}(I(p)), \\qquad$\n",
    "- $\\omega_1(\\tau) = \\sum_{p \\in \\Omega} 1-\\mathbb{1}_{\\tau}(I(p))$\n",
    "\n",
    "and \n",
    "\n",
    "$\\mathbb{1}_{\\tau}(I(p)) =\\begin{cases}\n",
    "        1 \\; \\text{if} \\: I(p)<=\\tau\\\\\n",
    "        0 \\; \\text{otherwise}\n",
    "\\end{cases}$\n",
    "\n",
    "Implement this algorithm in a function called ``segmentation_otsu``. Note : only analyse thresholds which produce two distinct regions. Furthemore, remember that the image is normalised between 0 and 1, with 256 discrete values. Choose the threshold values accordingly."
   ]
  },
  {
   "cell_type": "code",
   "execution_count": null,
   "metadata": {
    "collapsed": true,
    "id": "8n7-yuD7tkbo"
   },
   "outputs": [],
   "source": [
    "def segmentation_otsu(img):\n",
    "\n",
    "    # TO FILL IN\n",
    "    # RETURN BOTH THE SEGMENTED IMAGE AND THE THRESHOLD WHICH YOU HAVE FOUND\n",
    "    return img_out,tau_out"
   ]
  },
  {
   "cell_type": "markdown",
   "metadata": {
    "id": "H3IRksI8tkbp"
   },
   "source": [
    "Carry out the segmentation on the input image and display the result"
   ]
  },
  {
   "cell_type": "code",
   "execution_count": null,
   "metadata": {
    "id": "6mZJ36qetkbp"
   },
   "outputs": [],
   "source": [
    "img_out_otsu,tau = segmentation_otsu(img_gray)\n",
    "display_image(img_out_otsu)\n",
    "write_image(img_out_otsu,file_name+'_segmentation_otsu.png')"
   ]
  },
  {
   "cell_type": "code",
   "execution_count": null,
   "metadata": {
    "id": "TdTgjP-itkbq"
   },
   "outputs": [],
   "source": [
    "tau"
   ]
  },
  {
   "cell_type": "markdown",
   "metadata": {
    "id": "uIk9Tz7Ntkbq"
   },
   "source": [
    "__Question 1.1__ What problem can you see with the segmentation result ? What technique(s) (seen in the lesson) could you use to clean the result up ? "
   ]
  },
  {
   "cell_type": "markdown",
   "metadata": {
    "id": "CjseOMJoOagC"
   },
   "source": [
    "__Answer__"
   ]
  },
  {
   "cell_type": "markdown",
   "metadata": {
    "id": "jIB0e1B1Oaz7"
   },
   "source": [
    "Carry this out on the output image, and imwrite the result. You can find the necessary function(s) in the following package :\n",
    "\n",
    "skimage.morphology\n",
    "\n",
    "Choose the neighbourhood parameter of the functions to obtain the best results."
   ]
  },
  {
   "cell_type": "markdown",
   "metadata": {
    "id": "weLHxSYqOUXa"
   },
   "source": [
    "__Question 1.2__ In which order did you carry out the operations (you can test the different possibilities) ? Explain why you think this order is best."
   ]
  },
  {
   "cell_type": "markdown",
   "metadata": {
    "id": "hB3nfK_VOWIA"
   },
   "source": [
    "__Answer__"
   ]
  },
  {
   "cell_type": "code",
   "execution_count": null,
   "metadata": {
    "id": "TY6dYOQPtkbr"
   },
   "outputs": [],
   "source": [
    "# FILL IN HERE\n",
    "img_out_otsu_cleaned =  # FILL IN HERE\n",
    "\n",
    "display_image(img_out_otsu_cleaned)\n",
    "write_image(img_out_otsu_cleaned,file_name+'_segmentation_otsu_cleaned_1.png')"
   ]
  },
  {
   "cell_type": "markdown",
   "metadata": {
    "id": "jdPSFCOOtkbr"
   },
   "source": [
    "Let's change the image, and carry out the segmentation again."
   ]
  },
  {
   "cell_type": "code",
   "execution_count": null,
   "metadata": {
    "id": "qz7_usxJtkbs"
   },
   "outputs": [],
   "source": [
    "file_name = 'town'\n",
    "file_ext = '.png'\n",
    "\n",
    "if (is_colab == True):\n",
    "  !wget \"https://perso.telecom-paristech.fr/anewson/doc/images/town.png\"\n",
    "  img_gray,_ = read_image(file_name+file_ext)\n",
    "else:\n",
    "  img_gray,_ = read_image(file_dir+file_name+file_ext)\n",
    "\n",
    "display_image(img_gray)\n",
    "img_gray.shape\n",
    "\n",
    "img_out_otsu,tau = segmentation_otsu(img_gray)\n",
    "display_image(img_out_otsu)\n",
    "write_image(img_out_otsu,file_name+'_segmentation_otsu.png')"
   ]
  },
  {
   "cell_type": "markdown",
   "metadata": {
    "id": "LcOkQYnUtkbs"
   },
   "source": [
    "As we can see, there is no notion of connectivity in the algorithm of Otsu (two regions far away can be in the same segment). For such a notion, we turn to region merging."
   ]
  },
  {
   "cell_type": "markdown",
   "metadata": {
    "id": "TIU_ZcrQtkbt"
   },
   "source": [
    "## Region merging\n",
    "\n",
    "The region merging algorithm is quite simple : we start with a small region, and add pixels progressively to the region, according to a criterion. We choose the following criterion :\n",
    "\n",
    "- $I(p)$ is added to the region if the absolute difference between the pixel value and the region's average value is less than a threshold value (which you must set).\n",
    "\n",
    "First, create a function called ``initialize_segmentation`` which initialises the segmentation with a small circular region centred on a given seed point (the seed point is an input). For this, the following function :\n",
    "\n",
    "- scipy.ndimage.morphology.distance_transform_edt\n",
    "\n",
    "can be useful."
   ]
  },
  {
   "cell_type": "code",
   "execution_count": null,
   "metadata": {
    "collapsed": true,
    "id": "fsTSXSYStkbt"
   },
   "outputs": [],
   "source": [
    "\n",
    "def initialize_segmentation(seed_pt,img_shape):\n",
    "    # FILL IN HERE\n",
    "    return seg_init"
   ]
  },
  {
   "cell_type": "markdown",
   "metadata": {
    "id": "xUyUzezStkbt"
   },
   "source": [
    "Now, create a function called ``segmentation_region_growing`` which carries out the region growing algorithm, with the criterion above, and which uses the ``initialize_segmentation`` function. Again, the functions from ``scipy.ndimage.morphology`` can be useful here.\n",
    "\n",
    "You will have to choose a neighbourhood that indicates which neighbouring pixels we want to try and include in the region. Use the following neighbourhood: $$ \\begin{pmatrix} 0 & 1 & 0 \\\\ 1 & 1 & 1 \\\\ 0 & 1 & 0\\end{pmatrix}$$"
   ]
  },
  {
   "cell_type": "code",
   "execution_count": null,
   "metadata": {
    "collapsed": true,
    "id": "FsqJH-Matkbu"
   },
   "outputs": [],
   "source": [
    "def segmentation_region_growing(img,seed_pt,tau):\n",
    "\n",
    "    # FILL IN HERE\n",
    "    # RETURN BOTH THE SEGMENTED IMAGE AND THE INITIALISATION WHICH YOU FOUND\n",
    "\n",
    "    return seg_n,seg_init"
   ]
  },
  {
   "cell_type": "markdown",
   "metadata": {
    "id": "KEAl1jMOtkbu"
   },
   "source": [
    "Carry out the segmentation on the input image with the seed point and threshold specified in the following code :"
   ]
  },
  {
   "cell_type": "code",
   "execution_count": null,
   "metadata": {
    "id": "x0do-dQytkbv"
   },
   "outputs": [],
   "source": [
    "seed_pt = np.asarray([130,350])\n",
    "tau = 20.0 * (1.0/256.0)\n",
    "img_out_region_growing,seg_init = segmentation_region_growing(img_gray,seed_pt,tau)\n",
    "display_image(img_out_region_growing)\n",
    "write_image(seg_init,file_name+'_segmentation_region_growing_init.png')\n",
    "write_image(img_out_region_growing,file_name+'_segmentation_region_growing.png')"
   ]
  },
  {
   "cell_type": "markdown",
   "metadata": {
    "id": "ONv6NqoeS-rQ"
   },
   "source": [
    "__Question 1.3__ What final problem, especially concering the boundary between the regions, can you see ? What method could be used instead of region growing, could solve this problem ?"
   ]
  },
  {
   "cell_type": "markdown",
   "metadata": {
    "id": "PMF7rI-MWbk3"
   },
   "source": [
    "__Answer__"
   ]
  },
  {
   "cell_type": "code",
   "execution_count": null,
   "metadata": {
    "collapsed": true,
    "id": "GLzjI1MXtkbv"
   },
   "outputs": [],
   "source": []
  }
 ],
 "metadata": {
  "colab": {
   "collapsed_sections": [],
   "name": "segmentation_for_students.ipynb",
   "provenance": []
  },
  "kernelspec": {
   "display_name": "Python 3 (ipykernel)",
   "language": "python",
   "name": "python3"
  },
  "language_info": {
   "codemirror_mode": {
    "name": "ipython",
    "version": 3
   },
   "file_extension": ".py",
   "mimetype": "text/x-python",
   "name": "python",
   "nbconvert_exporter": "python",
   "pygments_lexer": "ipython3",
   "version": "3.9.13"
  }
 },
 "nbformat": 4,
 "nbformat_minor": 1
}
