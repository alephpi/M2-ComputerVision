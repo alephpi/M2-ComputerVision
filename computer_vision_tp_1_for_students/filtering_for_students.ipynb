{
  "nbformat": 4,
  "nbformat_minor": 0,
  "metadata": {
    "kernelspec": {
      "display_name": "Python 3",
      "language": "python",
      "name": "python3"
    },
    "language_info": {
      "codemirror_mode": {
        "name": "ipython",
        "version": 3
      },
      "file_extension": ".py",
      "mimetype": "text/x-python",
      "name": "python",
      "nbconvert_exporter": "python",
      "pygments_lexer": "ipython3",
      "version": "3.6.7"
    },
    "colab": {
      "provenance": []
    }
  },
  "cells": [
    {
      "cell_type": "markdown",
      "metadata": {
        "id": "yWdvo6XSO9IC"
      },
      "source": [
        "# Part 1 : Sampling and filtering\n",
        "\n",
        "In this part of the lab work, we are going to look at the frequency content of images, and certain filtering operations which which we can carry out.\n",
        "\n",
        "__Note__ : in this part of the TP, we will avoid using plt.imshow(). Indeed, if you use imshow to display an image, it will change the resolution of this image. Since we are going to be looking at aliasing effects (which is induced precisely by changing resolution), it is better to write the output to an image file and view it in a separate program.\n",
        "\n",
        "First, let us load the necessary packages"
      ]
    },
    {
      "cell_type": "code",
      "metadata": {
        "id": "O8FUh6-RO9II"
      },
      "source": [
        "from matplotlib import pyplot as plt\n",
        "import numpy as np \n",
        "import imageio\n",
        "from skimage import color\n",
        "\n",
        "is_colab= True"
      ],
      "execution_count": null,
      "outputs": []
    },
    {
      "cell_type": "markdown",
      "metadata": {
        "id": "zTCjhpmHO9II"
      },
      "source": [
        "The last package will help us to carry out the convolution operation. Let's define two functions to read and write and image :"
      ]
    },
    {
      "cell_type": "code",
      "metadata": {
        "id": "RW8lE1JCO9IJ"
      },
      "source": [
        "def read_image(file_name):\n",
        "    img_color = imageio.imread(file_name)\n",
        "    img_gray = color.rgb2gray(img_color)\n",
        "    return img_gray,img_color\n",
        "    \n",
        "def write_image(img_in,file_name_out):\n",
        "    imageio.imwrite(file_name_out, np.uint8(255.0*img_in))"
      ],
      "execution_count": null,
      "outputs": []
    },
    {
      "cell_type": "code",
      "metadata": {
        "id": "usQqBBWMO9IJ"
      },
      "source": [
        "file_dir = 'images/'\n",
        "file_name = 'boston'\n",
        "file_ext = '.png'\n",
        "\n",
        "if (is_colab == True):\n",
        "  !wget \"https://perso.telecom-paristech.fr/anewson/doc/images/boston.png\"\n",
        "  img_gray,_ = read_image(file_name+file_ext)\n",
        "else:\n",
        "  img_gray,_ = read_image(file_dir+file_name+file_ext)\n",
        "img_gray.shape"
      ],
      "execution_count": null,
      "outputs": []
    },
    {
      "cell_type": "markdown",
      "metadata": {
        "id": "bOuOFrpCO9IK"
      },
      "source": [
        "## Frequency content\n",
        "\n",
        "Firstly, we are going to inspect the frequency content of the image. Write a function to display the magnitude of the spectrum of the image. For this, you can use the following functions\n",
        "\n",
        "- ``np.fft.fft2``\n",
        "- ``np.fft.fftshift``\n",
        "\n",
        "The first calculates the 2D Fast Fourier Transform of the image. The second centres the spectrum, such that the 0 frequency is centred in the image. Otherwise the 0 point is set at the top left, which is not very conveniant for visualisation.\n",
        "\n",
        "A final note. It is often the case that the 0 frequency is of much larger amplitude than the other frequencies. Therefore, we often visualise log(1+spectrum_magnitude) rather than spectrum_magnitude itself.\n",
        "\n",
        "Write this function ``display_spectrum`` now."
      ]
    },
    {
      "cell_type": "code",
      "metadata": {
        "id": "xiSMGMPgO9IK"
      },
      "source": [
        "def display_spectrum(img):\n",
        "    #INSERT CODE HERE\n",
        "    return"
      ],
      "execution_count": null,
      "outputs": []
    },
    {
      "cell_type": "code",
      "metadata": {
        "id": "dP0thJmcO9IL"
      },
      "source": [
        "display_spectrum(img_gray)"
      ],
      "execution_count": null,
      "outputs": []
    },
    {
      "cell_type": "markdown",
      "metadata": {
        "id": "VABL1z8SO9IL"
      },
      "source": [
        "__Question__ 1.1 : What do you observe in the frequency domain ? What is your interpretation of this image ?"
      ]
    },
    {
      "cell_type": "markdown",
      "metadata": {
        "id": "2Cpc3RBnO9IL"
      },
      "source": [
        "__Answer__ : "
      ]
    },
    {
      "cell_type": "markdown",
      "metadata": {
        "id": "J06KKGDxO9IL"
      },
      "source": [
        "## Subsampling and aliasing\n",
        "\n",
        "We are now going to carry out a ''direct'' subsampling (also known as a ''nearest neighbours'' subsampling of a factor $\\delta$, that is to say we simply take one out of every two pixels. Fill in the following function to do this :"
      ]
    },
    {
      "cell_type": "code",
      "metadata": {
        "id": "ZnmePTqrO9IM"
      },
      "source": [
        "def nn_subsampling(img_in,delta):\n",
        "    #INSERT CODE HERE\n",
        "    return()"
      ],
      "execution_count": null,
      "outputs": []
    },
    {
      "cell_type": "markdown",
      "metadata": {
        "id": "nkaWc7vxO9IM"
      },
      "source": [
        "We write the subsampled image, with subsampling step $\\delta = 2$"
      ]
    },
    {
      "cell_type": "code",
      "metadata": {
        "scrolled": true,
        "id": "49WpjliYO9IM"
      },
      "source": [
        "delta = 2\n",
        "image_small = nn_subsampling(img_gray,delta)\n",
        "write_image(image_small, file_name+'_subsampled.png')"
      ],
      "execution_count": null,
      "outputs": []
    },
    {
      "cell_type": "markdown",
      "metadata": {
        "id": "U6zSl6ylO9IM"
      },
      "source": [
        "__Question__ 1.2 What do you notice about the image ? Where is the aliasing taking place ? Why is it taking place in these specific regions ?"
      ]
    },
    {
      "cell_type": "markdown",
      "metadata": {
        "id": "igJJ3FDdO9IM"
      },
      "source": [
        "__Answer__ :"
      ]
    },
    {
      "cell_type": "markdown",
      "metadata": {
        "id": "_KqS3FazO9IN"
      },
      "source": [
        "We have seen two different methods of filtering an image before subsampling to remove high frequencies :\n",
        "\n",
        "- Ideal low-pass filter\n",
        "- Gaussian filter\n",
        "\n",
        "We recall that the convolution operation, which defines a filter, can be carried out either in the time domain or the frequency domain.\n",
        "\n",
        "Write a function which filters an input image via the frequency domain, with the input filter $f_hat$ defined in the frequency domain. The output ``img_out`` should be in the spatial domain. You can use the ``np.fft.ifft2`` function to carry out the inverse Fourier transform. Make sure to take the __real__ part of the output image (``np.real``)."
      ]
    },
    {
      "cell_type": "code",
      "metadata": {
        "id": "y_V17_J2O9IN"
      },
      "source": [
        "def filter_image(img,f_hat):\n",
        "    \n",
        "    #INSERT CODE HERE\n",
        "    img_out = ...\n",
        "    return(img_out)"
      ],
      "execution_count": null,
      "outputs": []
    },
    {
      "cell_type": "markdown",
      "metadata": {
        "id": "MxO_HNEnO9IN"
      },
      "source": [
        "Now, create a function ``ideal_low_pass_filter`` which returns an ideal low-pass filter $\\hat{h}$ in the frequency domain. Note : by definition the 0 frequency is at the top left point of the image. To convert it to this format, you can use the ``np.fft.ifftshift`` function (which inverses the fftshift). In the ''centred'' representation of the frequency, for an image of even size $n=2a$, the 0 frequency position is located at position $a$ (where 0 is the first position).\n",
        "\n",
        "Hint : the distance transform ``scipy.ndimage.morphology.distance_transform_edt`` can be useful here."
      ]
    },
    {
      "cell_type": "code",
      "metadata": {
        "id": "wrVZjQMuO9IN"
      },
      "source": [
        "def ideal_low_pass_filter(img_shape,nu_0):\n",
        "    \n",
        "    #INSERT CODE HERE\n",
        "    f_hat = ...\n",
        "    \n",
        "    return(f_hat)\n"
      ],
      "execution_count": null,
      "outputs": []
    },
    {
      "cell_type": "markdown",
      "metadata": {
        "id": "OFHjob-7O9IN"
      },
      "source": [
        "__Question 1.3__ Given that in an image with sampling rate 1 (the pixel size) the frequencies in the original image of size $n \\times n$ go from $-\\frac{1}{2}$ to $\\frac{1}{2}$, at positions $-\\frac{n}{2}$ to $\\frac{n}{2}$ in a ''centred'' representation of the spectrum.  For a subsampling of $\\delta=2$, where should the cutoff frequency $\\nu_0$ be set for correct subsampling ?"
      ]
    },
    {
      "cell_type": "markdown",
      "metadata": {
        "id": "aLrM_jNvO9IO"
      },
      "source": [
        "__Answer__ :"
      ]
    },
    {
      "cell_type": "markdown",
      "metadata": {
        "id": "m1SIPxdzO9IO"
      },
      "source": [
        "Create f_hat, the ideal low-pass filter in the frequency domain, and display it."
      ]
    },
    {
      "cell_type": "code",
      "metadata": {
        "id": "INEVXbtdO9IO"
      },
      "source": [
        "img_shape = img_gray.shape\n",
        "print(img_shape)\n",
        "#INSERT CODE HERE\n",
        "nu_0 = ...\n",
        "f_hat = ideal_low_pass_filter(img_shape,nu_0)\n",
        "plt.imshow(f_hat,cmap='gray')"
      ],
      "execution_count": null,
      "outputs": []
    },
    {
      "cell_type": "markdown",
      "metadata": {
        "id": "--9WY6DrO9IP"
      },
      "source": [
        "Carry out the filtering, and subsample the image again, and imwrite the result.\n",
        "\n",
        "You should observe that the range of the image is not respected. Make sure to rescale the output image to the range $0, \\dots, 1$ before writing it.\n",
        "\n",
        "__Question 1.4__ Why do you think this happens ?"
      ]
    },
    {
      "cell_type": "markdown",
      "metadata": {
        "id": "dr0GnnMtO9IP"
      },
      "source": [
        "__Answer__ :"
      ]
    },
    {
      "cell_type": "code",
      "metadata": {
        "id": "Mw-DeXG3O9IP"
      },
      "source": [
        "img_filtered = filter_image(img_gray,f_hat)\n",
        "\n",
        "#INSERT CODE HERE\n",
        "img_filtered = ... # normalize image\n",
        "#INSERT CODE HERE\n",
        "img_filtered = nn_subsampling(...)\n",
        "\n",
        "write_image(img_filtered,file_name+'_filtered_ideal_low_pass.png')"
      ],
      "execution_count": null,
      "outputs": []
    },
    {
      "cell_type": "markdown",
      "metadata": {
        "id": "T26woetrO9IP"
      },
      "source": [
        "__Question 1.5__ Is the aliasing reduced ? What effect do you notice in the output ? What is this called ?"
      ]
    },
    {
      "cell_type": "markdown",
      "metadata": {
        "id": "-Xv0yqQRO9IP"
      },
      "source": [
        "__Answer__ :"
      ]
    },
    {
      "cell_type": "markdown",
      "metadata": {
        "id": "66BsoRiZO9IP"
      },
      "source": [
        "Now, we are going to carry out the filtering with a Gaussian filter. Create a function ``gaussian_filter`` which returns a 2D Gaussian filter, defined as :\n",
        "\n",
        "$g_\\sigma(x,y) = \\frac{1}{2 \\pi \\sigma^2} \\exp{ \\left( - \\frac{x^2+y^2}{2\\sigma^2} \\right)}$\n",
        "\n",
        "To create a grid of pixel positions, you can use the ``np.meshgrid`` function.\n",
        "\n",
        "You must again make sure to carry out an ``ifftshift`` to make sure the filter is in the correct format. Be careful to put the middle of the Gaussian at the centre position ($a$)."
      ]
    },
    {
      "cell_type": "code",
      "metadata": {
        "id": "407QqHtYO9IQ"
      },
      "source": [
        "def gaussian_filter(img_shape,sigma):\n",
        "    #INSERT CODE HERE\n",
        "    g = ...\n",
        "    return g"
      ],
      "execution_count": null,
      "outputs": []
    },
    {
      "cell_type": "markdown",
      "metadata": {
        "id": "k9w6QPypO9IQ"
      },
      "source": [
        "Now, create a Gaussian filter in the frequency domain to attenuate the frequencies higher than the previous cutoff frequency you used above, $\\nu_0$. To do this, we recall that 95.45 percent of the energy of a Gaussian function is contained within $\\pm 2\\sigma$. Fix $\\sigma$ accordingly. Display the filter."
      ]
    },
    {
      "cell_type": "code",
      "metadata": {
        "id": "cHj-dwGfO9IQ"
      },
      "source": [
        "#INSERT CODE HERE\n",
        "sigma = ...\n",
        "g_hat = gaussian_filter(img_gray.shape,sigma)\n",
        "plt.imshow(g_hat,cmap='gray')"
      ],
      "execution_count": null,
      "outputs": []
    },
    {
      "cell_type": "markdown",
      "metadata": {
        "id": "tAfUWlnZO9IQ"
      },
      "source": [
        "Now, carry out the filtering with the Gaussian filter in the frequency domain. Remember to rescale the output image."
      ]
    },
    {
      "cell_type": "code",
      "metadata": {
        "id": "2tSmFHOaO9IQ"
      },
      "source": [
        "#INSERT CODE HERE\n",
        "img_filtered = ...\n",
        "\n",
        "write_image(img_filtered,file_name+'_filtered_gaussian.png')"
      ],
      "execution_count": null,
      "outputs": []
    },
    {
      "cell_type": "markdown",
      "metadata": {
        "id": "om1hxrLsO9IQ"
      },
      "source": [
        "__Question 1.6__ Do you still observe the problem observed in the case of the ideal low-pass filter ? Why ?"
      ]
    },
    {
      "cell_type": "markdown",
      "metadata": {
        "id": "jhoSz4s8O9IR"
      },
      "source": [
        "__Answer__ :"
      ]
    },
    {
      "cell_type": "markdown",
      "metadata": {
        "id": "zFjA0gLbO9IR"
      },
      "source": [
        "__Question 1.7__ We have had to rescale the output image again. This time, why was this the case ? Hint : think about a Gaussian filter in the spatial domain with a very large $\\sigma$."
      ]
    },
    {
      "cell_type": "markdown",
      "metadata": {
        "id": "-y1v_qr7O9IR"
      },
      "source": [
        "__Answer__ :"
      ]
    },
    {
      "cell_type": "markdown",
      "metadata": {
        "id": "tza3SLpEO9IR"
      },
      "source": [
        "## Standard filters\n",
        "\n",
        "In this section, we are going to look at some common filters, and see their effects on images. From this point on in the TP, we are going to be working in the spatial domain, and are no longer concentrated on aliasing. Therefore, we can use the plt.imshow function (you may notice some aliasing, but we ignore it here). We define a display function now."
      ]
    },
    {
      "cell_type": "code",
      "metadata": {
        "id": "pwtsoIcgO9IR"
      },
      "source": [
        "def display_image(img_in):\n",
        "    plt.imshow(img_in,cmap='gray')"
      ],
      "execution_count": null,
      "outputs": []
    },
    {
      "cell_type": "code",
      "metadata": {
        "id": "164JzdYMO9IR"
      },
      "source": [
        "file_dir = 'images/'\n",
        "file_name = 'palma'\n",
        "file_ext = '.png'\n",
        "\n",
        "if (is_colab == True):\n",
        "  !wget \"https://perso.telecom-paristech.fr/anewson/doc/images/palma.png\"\n",
        "  img_gray,_ = read_image(file_name+file_ext)\n",
        "else:\n",
        "  img_gray,_ = read_image(file_dir+file_name+file_ext)\n",
        "img_gray.shape\n",
        "\n",
        "display_image(img_gray)"
      ],
      "execution_count": null,
      "outputs": []
    },
    {
      "cell_type": "markdown",
      "metadata": {
        "id": "R5VHd5wcO9IS"
      },
      "source": [
        "Now, write a function ``filter_image_spatial`` which carries out the 2D convolution between two images in the spatial domain. For this, you can use the ``convolve2d`` from the scipy.signal package. In this convolution, you should use the following parameters :\n",
        "\n",
        "- mode='same'. This means that the output size of the image will be the same as the input\n",
        "- boundary='symm'. For values outside the image domain, we take the symmetrical values of the image\n",
        "\n",
        "Strictly speaking, if we take the Fourier transform of an image, we are using periodic boudary conditions. However, at this point we no longer need the frequency representation of the image, so we can define the conditions as we wish."
      ]
    },
    {
      "cell_type": "code",
      "metadata": {
        "id": "CgDxDUceO9IS"
      },
      "source": [
        "def filter_image_spatial(img,f):\n",
        "    #INSERT CODE HERE\n",
        "    img_out = ...\n",
        "    return(img_out)"
      ],
      "execution_count": null,
      "outputs": []
    },
    {
      "cell_type": "markdown",
      "metadata": {
        "id": "ByFcm7LQO9IS"
      },
      "source": [
        "Now, define the filters grad_y and grad_x which give the derivatives of the image in the $y$ and $x$ directions, resepctively (see lesson slides). Note : you must define these filters in the spatial domain, and make sure that they are matrices (otherwise the dimensions will not match with those of the image);"
      ]
    },
    {
      "cell_type": "code",
      "metadata": {
        "id": "XmKoeX7oO9IS"
      },
      "source": [
        "#INSERT CODE HERE\n",
        "grad_x = ...\n",
        "grad_y = ... "
      ],
      "execution_count": null,
      "outputs": []
    },
    {
      "cell_type": "code",
      "metadata": {
        "id": "Y576tXImO9IS"
      },
      "source": [
        "grad_x"
      ],
      "execution_count": null,
      "outputs": []
    },
    {
      "cell_type": "code",
      "metadata": {
        "id": "xBQsqgeSO9IS"
      },
      "source": [
        "grad_y"
      ],
      "execution_count": null,
      "outputs": []
    },
    {
      "cell_type": "markdown",
      "metadata": {
        "id": "Ydb_GPGbO9IS"
      },
      "source": [
        "Filter the input image and display the results of these two filterings"
      ]
    },
    {
      "cell_type": "code",
      "metadata": {
        "scrolled": true,
        "id": "qtfZaEg2O9IT"
      },
      "source": [
        "#INSERT CODE HERE\n",
        "img_grad_x = ...\n",
        "img_grad_y = ...\n",
        "\n",
        "display_image(img_grad_x)\n",
        "plt.figure()\n",
        "display_image(img_grad_y)"
      ],
      "execution_count": null,
      "outputs": []
    },
    {
      "cell_type": "markdown",
      "metadata": {
        "id": "YRTJ3EoXO9IT"
      },
      "source": [
        "Suppose we wish to create a sketch of our image, with just the outlines of object. Propose a (simple) method to create a binary image where the edges are shown. Implement this in a function called ``sketch_image``, and apply it to the input image. Display it (you can write it as well to view it better)."
      ]
    },
    {
      "cell_type": "code",
      "metadata": {
        "scrolled": true,
        "id": "896P5SFyO9IU"
      },
      "source": [
        "def sketch_image(img_in,tau):\n",
        "    #INSERT CODE HERE\n",
        "    \n",
        "    img_out = ...\n",
        "    return img_out\n",
        "\n",
        "tau = 0.05\n",
        "img_sketch = sketch_image(img_gray,tau)\n",
        "display_image(img_sketch)\n",
        "write_image(img_sketch, file_name+'_sketch.png')"
      ],
      "execution_count": null,
      "outputs": []
    },
    {
      "cell_type": "markdown",
      "metadata": {
        "id": "MWOM1UK6O9IV"
      },
      "source": [
        "Depending on the threshold used in your algorithm, the sketch may have a certain thickness. Ideally, we would like to have a sketch of one-pixel thickness. This is something we would like to avoid in the sketch. Propose a solution (using the information in the lesson) to this using morphological operators, and implement it. You can find the necessary function in the following package (do not reimplement this operation, there is alread a function which exists) :\n",
        "\n",
        "- skimage.morphology"
      ]
    },
    {
      "cell_type": "code",
      "metadata": {
        "id": "3MIW3DqzO9IV"
      },
      "source": [
        "#INSERT CODE HERE"
      ],
      "execution_count": null,
      "outputs": []
    }
  ]
}