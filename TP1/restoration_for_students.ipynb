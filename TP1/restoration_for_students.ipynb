{
  "nbformat": 4,
  "nbformat_minor": 0,
  "metadata": {
    "kernelspec": {
      "display_name": "Python 3",
      "language": "python",
      "name": "python3"
    },
    "language_info": {
      "codemirror_mode": {
        "name": "ipython",
        "version": 3
      },
      "file_extension": ".py",
      "mimetype": "text/x-python",
      "name": "python",
      "nbconvert_exporter": "python",
      "pygments_lexer": "ipython3",
      "version": "3.6.7"
    },
    "colab": {
      "name": "restoration_for_students.ipynb",
      "provenance": [],
      "collapsed_sections": []
    }
  },
  "cells": [
    {
      "cell_type": "markdown",
      "metadata": {
        "id": "3o7GuwAoRhCO"
      },
      "source": [
        "# Part 3 : Restoration\n",
        "\n",
        "In this part of the TP, we are going to look at image restoration. We will look at several type of noise and ways to remove this noise. We first define some helper functions."
      ]
    },
    {
      "cell_type": "code",
      "metadata": {
        "id": "kJzkFf5VRhCV"
      },
      "source": [
        "from matplotlib import pyplot as plt\n",
        "import numpy as np \n",
        "import imageio\n",
        "from skimage import color\n",
        "\n",
        "is_colab = True\n",
        "\n",
        "def read_image(file_name):\n",
        "    img_color = imageio.imread(file_name)\n",
        "    img_gray = color.rgb2gray(img_color)\n",
        "    return img_gray,img_color\n",
        "    \n",
        "def write_image(img_in,file_name_out):\n",
        "    imageio.imwrite(file_name_out, np.uint8(255.0*img_in))\n",
        "    \n",
        "def display_image(img_in):\n",
        "    plt.figure(figsize=(10, 10))\n",
        "    if (img_in.ndim == 2):\n",
        "        plt.imshow(img_in,cmap='gray')\n",
        "    elif (img_in.ndim == 3):\n",
        "        # careful, in this case we supppose the pixel values are between 0 and 255\n",
        "        plt.imshow(np.uint8(img_in))\n",
        "    else:\n",
        "        print('Error, unknown number of dimensions in image')\n",
        "    return\n"
      ],
      "execution_count": null,
      "outputs": []
    },
    {
      "cell_type": "code",
      "metadata": {
        "id": "n2IKTU8nSyDm"
      },
      "source": [
        "\n",
        "file_dir = 'images/'\n",
        "file_name = 'palma'\n",
        "file_ext = '.png'\n",
        "\n",
        "if (is_colab == True):\n",
        "  !wget \"https://perso.telecom-paristech.fr/anewson/doc/images/palma.png\"\n",
        "  img_gray,_ = read_image(file_name+file_ext)\n",
        "else:\n",
        "  img_gray,_ = read_image(file_dir+file_name+file_ext)\n",
        "\n",
        "display_image(img_gray)\n",
        "img_gray.shape"
      ],
      "execution_count": null,
      "outputs": []
    },
    {
      "cell_type": "markdown",
      "metadata": {
        "id": "TqsralygRhCY"
      },
      "source": [
        "We will look at the following noise types :\n",
        "\n",
        "- Gaussian noise\n",
        "- Impulse (salt-and-pepper) noise\n",
        "- Missing pixels\n",
        "\n",
        "Fill in the following functions to add this noise to a gray-level image. Do not forget to clip the pixe values to the range $(0,1)$."
      ]
    },
    {
      "cell_type": "code",
      "metadata": {
        "id": "djAKnkfERhCY"
      },
      "source": [
        "\n",
        "def add_gaussian_noise(img_in,sigma_noise = 0.01):\n",
        "\n",
        "  #INSERT CODE HERE\n",
        "  img_out = ...\n",
        "\n",
        "  return img_out\n",
        "\n",
        "\n",
        "def add_impulse_noise(img_in,p=0.9):\n",
        "  #INSERT CODE HERE\n",
        "  img_out = ...\n",
        "  return img_out\n",
        "\n",
        "def add_missing_pixels_noise(img_in,p=0.9):\n",
        "  #INSERT CODE HERE\n",
        "  img_out = ...\n",
        "\n",
        "  return img_out"
      ],
      "execution_count": null,
      "outputs": []
    },
    {
      "cell_type": "markdown",
      "metadata": {
        "id": "mOed4-bFRhCZ"
      },
      "source": [
        "Add the different noises to the input image, and display (or write) the results. Use the following parameters :\n",
        "\n",
        "- sigma_noise=0.05 for the gaussian noise\n",
        "- $p=0.9$ (the probability of a pixel __not__ being affected, for the impulse noise and missing pixels"
      ]
    },
    {
      "cell_type": "code",
      "metadata": {
        "id": "XZKvK1wTRhCZ"
      },
      "source": [
        "sigma_noise = 0.05\n",
        "#INSERT CODE HERE\n",
        "img_gray_gaussian = ...\n",
        "write_image(img_gray_gaussian,file_name+'_gaussian_noise.png')\n",
        "\n",
        "#INSERT CODE HERE\n",
        "img_gray_impulse = ...\n",
        "write_image(img_gray_impulse,file_name+'_impulse_noise.png')\n",
        "\n",
        "#INSERT CODE HERE\n",
        "img_gray_missing = ...\n",
        "write_image(img_gray_missing,file_name+'_missing_pixels.png')"
      ],
      "execution_count": null,
      "outputs": []
    },
    {
      "cell_type": "markdown",
      "metadata": {
        "id": "e2fUsFQyRhCa"
      },
      "source": [
        "__Question 3.1__ For each type of noise, propose a restoration filter (see course slides) "
      ]
    },
    {
      "cell_type": "markdown",
      "metadata": {
        "id": "sUEa7OmARhCa"
      },
      "source": [
        "__Answer__"
      ]
    },
    {
      "cell_type": "markdown",
      "metadata": {
        "id": "94ysrInzRhCa"
      },
      "source": [
        "Implement these restoration techniques in appropriately named functions, and write the corresponding output images. Try to find the parameters which give the best results (visually).\n",
        "\n",
        "__Note__, you can use the filtering functions of the ``scipy.ndimage`` package, where the filtering is already implemented"
      ]
    },
    {
      "cell_type": "code",
      "metadata": {
        "id": "nbuwYhsURhCb"
      },
      "source": [
        "from scipy import ndimage\n",
        "\n",
        "def gaussian_filter(img,sigma = 3):\n",
        "  #INSERT CODE HERE\n",
        "  img_out = ...\n",
        "  return img_out\n",
        "\n",
        "\n",
        "def median_filter(img,median_size):\n",
        "  #INSERT CODE HERE\n",
        "  img_out = ...\n",
        "  return img_out\n",
        "\n",
        "sigma_gauss = 1.0\n",
        "img_out_gaussian = gaussian_filter(img_gray_gaussian,sigma_gauss)\n",
        "write_image(img_out_gaussian,file_name+'_denoised_gaussian.png')\n",
        "\n",
        "median_size = 3\n",
        "img_out_impulse_median = median_filter(img_gray_impulse,median_size)\n",
        "write_image(img_out_impulse_median,file_name+'_impulse_denoised_median.png')\n",
        "\n",
        "img_out_missing_median = median_filter(img_gray_missing,median_size)\n",
        "write_image(img_out_missing_median,file_name+'_missing_denoised_median.png')"
      ],
      "execution_count": null,
      "outputs": []
    },
    {
      "cell_type": "markdown",
      "metadata": {
        "id": "LFaEDy6kRhCb"
      },
      "source": [
        "__Question 3.2__ Roughly speaking, what is the tradeoff which you are trying to achieve by tuning the parameters ?"
      ]
    },
    {
      "cell_type": "markdown",
      "metadata": {
        "id": "_JwSmOQ2RhCb"
      },
      "source": [
        "__Answer__"
      ]
    },
    {
      "cell_type": "markdown",
      "metadata": {
        "id": "MTvMepmlRhCc"
      },
      "source": [
        "### Evaluation\n",
        "\n",
        "A commonly used metric for denoising is the ''Peak Signal-to-Noise Ratio'' (PSNR). This is linked to the commonly known mean squared error. The mean squared error is defined, for a reference image $Y$ and a restored image $Y$, of size $m \\times n$ as :\n",
        "\n",
        "- MSE$(Y,I) = \\frac{1}{mn} \\sum_{x,y} \\left( I_{x,y} - Y_{x,y}\\right)^2 $\n",
        "\n",
        "The PSNR is defined, in Decibels, as :\n",
        "\n",
        "PSNR$(Y,I) = 10 * \\log{\\left( \\frac{I_{max}^2}{MSE(Y,I)} \\right)}$,\n",
        "\n",
        "where $I_{max}$ is the maximum value of the image. For us (normalised to 1), this gives :\n",
        "\n",
        "PSNR$(Y,I) = -10 * \\log{ \\left({MSE(Y,I)} \\right)}$.\n",
        "\n",
        "Implement this in a function, and create a code to plot the PSNR for several values of the paramter, __in the Gaussian case only__. "
      ]
    },
    {
      "cell_type": "code",
      "metadata": {
        "id": "wJJVqw0IRhCc"
      },
      "source": [
        "def PSNR(img,img_ref):\n",
        "    #INSERT CODE HERE\n",
        "    return psnr\n",
        "\n",
        "#INSERT CODE HERE\n"
      ],
      "execution_count": null,
      "outputs": []
    },
    {
      "cell_type": "markdown",
      "metadata": {
        "id": "Igqokl9sRhCd"
      },
      "source": [
        "## Deconvolution\n",
        "\n",
        "In this part of the TP, we are going to try and invert a convolution operation. This is called __deconvolution__, and can be carried out in the Fourier domain, as follows. For an image $I$, filter $f$ and an output $Y$, if we have :\n",
        "\n",
        "$Y = I \\ast f$,\n",
        "\n",
        "then using the convolution theorem (see lesson), we have :\n",
        "\n",
        "$I = \\text{IFFT}\\left(\\frac{\\hat{Y}}{\\hat{f}}\\right)$\n",
        "\n",
        "where $\\hat{Y}$ and $\\hat{f}$ are the Fourier transforms of $Y$ and $f$ respectively.\n",
        "\n",
        "To simplify the problem, we take a square image for this part of the TP.\n"
      ]
    },
    {
      "cell_type": "code",
      "metadata": {
        "id": "CgDLySWrRhCe"
      },
      "source": [
        "file_dir = 'images/'\n",
        "file_name = 'boston'\n",
        "file_ext = '.png'\n",
        "\n",
        "if (is_colab == True):\n",
        "  !wget \"https://perso.telecom-paristech.fr/anewson/doc/images/boston.png\"\n",
        "  img_gray,_ = read_image(file_name+file_ext)\n",
        "else:\n",
        "  img_gray,_ = read_image(file_dir+file_name+file_ext)\n",
        "img_gray.shape\n",
        "\n",
        "display_image(img_gray)\n",
        "img_gray.shape"
      ],
      "execution_count": null,
      "outputs": []
    },
    {
      "cell_type": "markdown",
      "metadata": {
        "id": "wxoOL1z6RhCe"
      },
      "source": [
        "Now, let us consider the following fiter, defined in the Fourier domain :"
      ]
    },
    {
      "cell_type": "code",
      "metadata": {
        "scrolled": false,
        "id": "Lt2hiU7ARhCf"
      },
      "source": [
        "from scipy import signal\n",
        "\n",
        "img_size = img_gray.shape[0]\n",
        "h_size = int(np.floor(img_size/2.0))\n",
        "f_hat = np.zeros((img_size,img_size))\n",
        "\n",
        "X = np.asarray(range(-h_size,h_size))\n",
        "f_hat = np.tile( np.expand_dims( np.exp(-( X**2) / (2.0*(20.0**2))) , axis=1), (1,img_size)).T\n",
        "f_hat /= f_hat.sum()\n",
        "f_hat = np.fft.ifftshift(f_hat)\n",
        "plt.imshow( np.log( np.abs(f_hat)+1), cmap = 'gray')\n",
        "\n",
        "print(f_hat.shape)"
      ],
      "execution_count": null,
      "outputs": []
    },
    {
      "cell_type": "markdown",
      "metadata": {
        "id": "iDJ7ihLeRhCg"
      },
      "source": [
        "Using the convolution theorem and the inverse Fourier transform, carry out the convolution of the input image with $f$ and write the result ``img_convolved`` to an output file\n"
      ]
    },
    {
      "cell_type": "code",
      "metadata": {
        "id": "Gtyv-fvJRhCg"
      },
      "source": [
        "#INSERT CODE HERE"
      ],
      "execution_count": 1,
      "outputs": []
    },
    {
      "cell_type": "markdown",
      "metadata": {
        "id": "VboNqIvCRhCh"
      },
      "source": [
        "__Question 3.3__ What does this filter do (you can use the visualisation method from the first part of the TP to see what the filter spectrum looks like) ? How can this happen in real life ? "
      ]
    },
    {
      "cell_type": "markdown",
      "metadata": {
        "id": "Fel5jeiymZj-"
      },
      "source": [
        "__Answer__"
      ]
    },
    {
      "cell_type": "markdown",
      "metadata": {
        "id": "kC5-RVE1RhCi"
      },
      "source": [
        "Now, create a function which carries out a deconvolution in the Fourier domain, given an image and the Fourier transform of the filter $\\hat{f}$. You can reuse the code in the first part of the TP. Carry out the deconvolution on ``img_convolved`` and write the result to an output file. Remember to renormalise the output image.\n",
        "\n",
        "__Important note__ : You will have a problem with very small values of $\\hat{f}$ (division by 0). Propose a simple method to address this issue (look at the formula at the beginning of this section on deconvolution).\n"
      ]
    },
    {
      "cell_type": "code",
      "metadata": {
        "id": "JeR0SfpHRhCi"
      },
      "source": [
        "def deconvolve_fourier(img,f_hat):\n",
        "    #INSERT CODE HERE\n",
        "    ...\n",
        "    return img_out\n",
        "    \n",
        "\n",
        "img_out = np.real(deconvolve_fourier(img_convolved,f_hat))\n",
        "img_out -= img_out.min()\n",
        "img_out /= img_out.max()\n",
        "\n",
        "\n",
        "write_image(img_out,file_name+'_deconvolved.png')"
      ],
      "execution_count": null,
      "outputs": []
    }
  ]
}